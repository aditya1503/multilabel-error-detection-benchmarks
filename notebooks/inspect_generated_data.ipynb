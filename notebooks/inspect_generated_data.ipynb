{
 "cells": [
  {
   "cell_type": "code",
   "execution_count": null,
   "metadata": {},
   "outputs": [],
   "source": [
    "import pickle\n",
    "import pathlib\n",
    "import matplotlib.pyplot as plt\n",
    "import numpy as np\n",
    "import seaborn as sns"
   ]
  },
  {
   "cell_type": "code",
   "execution_count": null,
   "metadata": {},
   "outputs": [],
   "source": [
    "cd .."
   ]
  },
  {
   "cell_type": "code",
   "execution_count": null,
   "metadata": {},
   "outputs": [],
   "source": [
    "DATA_DIR = pathlib.Path(\"data/generated\")\n",
    "dataset_files =  [f for f in DATA_DIR.iterdir() if f.suffix == \".pkl\"]"
   ]
  },
  {
   "cell_type": "code",
   "execution_count": null,
   "metadata": {},
   "outputs": [],
   "source": [
    "def load_dataset(dataset_file):\n",
    "    with open(dataset_file, \"rb\") as f:\n",
    "        dataset = pickle.load(f)\n",
    "    return dataset\n",
    "\n",
    "def get_plot_args(dataset):\n",
    "\n",
    "    X, true_labels_train, X_test, true_labels_test, labels, label_errors_mask, multiple_errors_mask_dict, ps, py, noise_matrix, m, n = (\n",
    "        dataset[key] for key in dataset.keys()\n",
    "    )\n",
    "    return X, true_labels_train, X_test, true_labels_test, labels, label_errors_mask, multiple_errors_mask_dict, ps, py, noise_matrix, m, n\n",
    "\n",
    "def plot_dataset(*, X, labels, true_labels, noise_matrix, label_errors_mask, unique_labels, label_to_index):\n",
    "    # Plot the features with and without label noise\n",
    "    x_axis, y_axis = 0, 1\n",
    "\n",
    "    plt.figure(figsize=(10, 10))\n",
    "    plt.subplot(2, 2, 1)\n",
    "    plt.title(\"Features with label noise\")\n",
    "    plt.scatter(X[:, x_axis], X[:, y_axis], c=[label_to_index[tuple(label)] for label in labels])\n",
    "    plt.subplot(2, 2, 2)\n",
    "    plt.title(\"Features without label noise\")\n",
    "    plt.scatter(X[:, x_axis], X[:, y_axis], c=[label_to_index[tuple(label)] for label in true_labels])\n",
    "    plt.subplot(2, 2, 4)\n",
    "    plt.title(\"Label error mask\")\n",
    "    plt.scatter(X[:, x_axis], X[:, y_axis], c=label_errors_mask)\n",
    "\n",
    "\n",
    "def main(dataset_files):\n",
    "    for dataset_file in dataset_files:\n",
    "        print(f\"Loading {dataset_file}\")\n",
    "        dataset = load_dataset(dataset_file)\n",
    "        X, true_labels_train, X_test, true_labels_test, labels, label_errors_mask, multiple_errors_mask_dict, ps, py, noise_matrix, m, n = get_plot_args(dataset)\n",
    "        # Binarized labels to unique label indices\n",
    "        unique_labels = np.unique(np.concatenate([true_labels_train, true_labels_test, labels]), axis=0)\n",
    "        label_to_index = {tuple(label): i for i, label in enumerate(unique_labels)}\n",
    "        plot_dataset(X=X, labels=labels, true_labels=true_labels_train, noise_matrix=noise_matrix, label_errors_mask=label_errors_mask, unique_labels=unique_labels, label_to_index=label_to_index) \n",
    "        plt.show()"
   ]
  },
  {
   "cell_type": "code",
   "execution_count": null,
   "metadata": {},
   "outputs": [],
   "source": [
    "main(dataset_files)"
   ]
  },
  {
   "cell_type": "code",
   "execution_count": null,
   "metadata": {},
   "outputs": [],
   "source": []
  }
 ],
 "metadata": {
  "kernelspec": {
   "display_name": "Python 3.10.7 64-bit",
   "language": "python",
   "name": "python3"
  },
  "language_info": {
   "codemirror_mode": {
    "name": "ipython",
    "version": 3
   },
   "file_extension": ".py",
   "mimetype": "text/x-python",
   "name": "python",
   "nbconvert_exporter": "python",
   "pygments_lexer": "ipython3",
   "version": "3.10.7"
  },
  "orig_nbformat": 4,
  "vscode": {
   "interpreter": {
    "hash": "949777d72b0d2535278d3dc13498b2535136f6dfe0678499012e853ee9abcab1"
   }
  }
 },
 "nbformat": 4,
 "nbformat_minor": 2
}
